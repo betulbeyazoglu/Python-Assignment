{
 "cells": [
  {
   "cell_type": "code",
   "execution_count": 3,
   "metadata": {},
   "outputs": [
    {
     "output_type": "stream",
     "name": "stdout",
     "text": "10 is not a prime number\n"
    }
   ],
   "source": [
    "is_prime = int(input(\"Please enter a number: \"))\n",
    "count = 0\n",
    "for i in range (1, is_prime):\n",
    "    if is_prime%i==0:\n",
    "        count+=1\n",
    "if count>=2:\n",
    "    print(f\"{is_prime} is not a prime number\")\n",
    "else:\n",
    "    print(f\"{is_prime} is a prime number\")"
   ]
  },
  {
   "cell_type": "code",
   "execution_count": null,
   "metadata": {},
   "outputs": [],
   "source": []
  }
 ],
 "metadata": {
  "language_info": {
   "codemirror_mode": {
    "name": "ipython",
    "version": 3
   },
   "file_extension": ".py",
   "mimetype": "text/x-python",
   "name": "python",
   "nbconvert_exporter": "python",
   "pygments_lexer": "ipython3",
   "version": "3.8.2-final"
  },
  "orig_nbformat": 2,
  "kernelspec": {
   "name": "python38264bit299ac3f5f4594dda8271e34d6bf23870",
   "display_name": "Python 3.8.2 64-bit"
  }
 },
 "nbformat": 4,
 "nbformat_minor": 2
}