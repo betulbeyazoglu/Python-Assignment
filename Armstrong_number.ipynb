{
 "nbformat": 4,
 "nbformat_minor": 2,
 "metadata": {
  "language_info": {
   "name": "python",
   "codemirror_mode": {
    "name": "ipython",
    "version": 3
   },
   "version": "3.8.2-final"
  },
  "orig_nbformat": 2,
  "file_extension": ".py",
  "mimetype": "text/x-python",
  "name": "python",
  "npconvert_exporter": "python",
  "pygments_lexer": "ipython3",
  "version": 3,
  "kernelspec": {
   "name": "python38264bit299ac3f5f4594dda8271e34d6bf23870",
   "display_name": "Python 3.8.2 64-bit"
  }
 },
 "cells": [
  {
   "cell_type": "code",
   "execution_count": 7,
   "metadata": {},
   "outputs": [
    {
     "output_type": "stream",
     "name": "stdout",
     "text": "121 is not an Armstrong number\n"
    }
   ],
   "source": [
    "num=input(\"Please enter a number: \")\n",
    "sum=0\n",
    "n=len(num)\n",
    "if num.isnumeric():\n",
    "    if int(num)>=0:\n",
    "        for i in range(n):\n",
    "         sum+=int(num[i])**n\n",
    "         i+=1\n",
    "        if sum==int(num):\n",
    "            print(f\"{num} is an Armstrong number\")\n",
    "        else:\n",
    "            print(f\"{num} is not an Armstrong number\")\n",
    "elif num[0]==\"-\":\n",
    "    print(\" Please enter a positive number\")\n",
    "elif \".\" in num or \",\" in num:\n",
    "            print(\" Please enter an integer number\")\n",
    "else:\n",
    "    print(\" Do not use any entries other than numeric values\")"
   ]
  },
  {
   "cell_type": "code",
   "execution_count": null,
   "metadata": {},
   "outputs": [],
   "source": []
  }
 ]
}