{
 "cells": [
  {
   "cell_type": "code",
   "execution_count": null,
   "metadata": {},
   "outputs": [],
   "source": [
    "fizzbuzz=list(range(1,101))\n",
    "for i in range(len(fizzbuzz)):\n",
    "    if fizzbuzz[i]%3==0 and fizzbuzz[i]%15!=0:\n",
    "        fizzbuzz[i]=\"fizz\"\n",
    "    elif fizzbuzz[i]%5==0 and fizzbuzz[i]%15!=0:\n",
    "        fizzbuzz[i]=\"buzz\"\n",
    "    elif fizzbuzz[i]%15==0:\n",
    "        fizzbuzz[i]=\"fizzbuzz\"\n",
    "for i in fizzbuzz:\n",
    "    print(i, sep=\"\\n\")\n"
   ]
  }
 ],
 "metadata": {
  "language_info": {
   "codemirror_mode": {
    "name": "ipython",
    "version": 3
   },
   "file_extension": ".py",
   "mimetype": "text/x-python",
   "name": "python",
   "nbconvert_exporter": "python",
   "pygments_lexer": "ipython3",
   "version": 3
  },
  "orig_nbformat": 2
 },
 "nbformat": 4,
 "nbformat_minor": 2
}