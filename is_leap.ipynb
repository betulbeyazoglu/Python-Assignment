{
 "cells": [
  {
   "cell_type": "code",
   "execution_count": 25,
   "metadata": {},
   "outputs": [
    {
     "output_type": "stream",
     "name": "stdout",
     "text": "2019 is not a leap year\n"
    }
   ],
   "source": [
    "is_leap=int(input(\"Please enter a year to see if it is a leap year : \"))\n",
    "if is_leap%4==0 and is_leap%100!=0:\n",
    "    print(is_leap, \"is a leap year\")\n",
    "elif is_leap%400==0:\n",
    "    print(is_leap, \"is a leap year\")\n",
    "else:\n",
    "    print (is_leap, \"is not a leap year\")\n",
    "\n"
   ]
  },
  {
   "cell_type": "code",
   "execution_count": null,
   "metadata": {},
   "outputs": [],
   "source": []
  }
 ],
 "metadata": {
  "language_info": {
   "codemirror_mode": {
    "name": "ipython",
    "version": 3
   },
   "file_extension": ".py",
   "mimetype": "text/x-python",
   "name": "python",
   "nbconvert_exporter": "python",
   "pygments_lexer": "ipython3",
   "version": "3.8.2-final"
  },
  "orig_nbformat": 2,
  "kernelspec": {
   "name": "python38264bit299ac3f5f4594dda8271e34d6bf23870",
   "display_name": "Python 3.8.2 64-bit"
  }
 },
 "nbformat": 4,
 "nbformat_minor": 2
}