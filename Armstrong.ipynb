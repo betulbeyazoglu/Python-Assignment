{
 "cells": [
  {
   "cell_type": "code",
   "execution_count": 6,
   "metadata": {},
   "outputs": [
    {
     "output_type": "stream",
     "name": "stdout",
     "text": "121 is not an Armstrong number\n Do not use any entries other than numeric values\n Please enter a positive number\n Please enter an integer number\n5 is an Armstrong number\n"
    }
   ],
   "source": [
    "while True:\n",
    "    num=input(\"Please enter a number: \")\n",
    "    sum=0\n",
    "    n=len(num)\n",
    "    if num.isnumeric():\n",
    "        for i in range(n):\n",
    "         sum+=int(num[i])**n\n",
    "         i+=1\n",
    "        if sum==int(num):\n",
    "            print(f\"{num} is an Armstrong number\")\n",
    "            break\n",
    "        else:\n",
    "            print(f\"{num} is not an Armstrong number\")\n",
    "    elif num[0]==\"-\":\n",
    "        print(\" Please enter a positive number\")\n",
    "    elif \".\" in num or \",\" in num:\n",
    "        print(\" Please enter an integer number\")\n",
    "    else:\n",
    "        print(\" Do not use any entries other than numeric values\")\n"
   ]
  },
  {
   "cell_type": "code",
   "execution_count": null,
   "metadata": {},
   "outputs": [],
   "source": []
  }
 ],
 "metadata": {
  "language_info": {
   "codemirror_mode": {
    "name": "ipython",
    "version": 3
   },
   "file_extension": ".py",
   "mimetype": "text/x-python",
   "name": "python",
   "nbconvert_exporter": "python",
   "pygments_lexer": "ipython3",
   "version": "3.8.2-final"
  },
  "orig_nbformat": 2,
  "kernelspec": {
   "name": "python38264bit299ac3f5f4594dda8271e34d6bf23870",
   "display_name": "Python 3.8.2 64-bit"
  }
 },
 "nbformat": 4,
 "nbformat_minor": 2
}